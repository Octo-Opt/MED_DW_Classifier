{
 "cells": [
  {
   "cell_type": "code",
   "execution_count": 1,
   "metadata": {},
   "outputs": [],
   "source": [
    "import re\n",
    "import numpy as np\n",
    "import pandas as pd\n",
    "import matplotlib.pyplot as plt\n",
    "\n",
    "from utils import *\n",
    "\n",
    "import nltk\n",
    "from nltk.corpus import stopwords\n",
    "\n",
    "from tqdm import tqdm"
   ]
  },
  {
   "cell_type": "code",
   "execution_count": 2,
   "metadata": {},
   "outputs": [
    {
     "data": {
      "text/plain": [
       "{'dataset': './dataset.csv',\n",
       " 'model': {'max_seq_len': 75,\n",
       "  'n_label': 13,\n",
       "  'walk_len': 10,\n",
       "  'sg': 1,\n",
       "  'vector_size': 10,\n",
       "  'min_count': 5,\n",
       "  'window': 2,\n",
       "  'workers': 2,\n",
       "  'seed': 0}}"
      ]
     },
     "execution_count": 2,
     "metadata": {},
     "output_type": "execute_result"
    }
   ],
   "source": [
    "config = yaml_read('config.yaml')\n",
    "config"
   ]
  },
  {
   "cell_type": "code",
   "execution_count": null,
   "metadata": {},
   "outputs": [],
   "source": [
    "def remove_stopwords(text, stopwords=stopwords.words(\"english\")): \n",
    "    tokens = nltk.word_tokenize(text)\n",
    "    tokens = [w.lower().strip() for w in tokens if not w.lower() in stopwords]\n",
    "    return tokens\n",
    "\n",
    "\n",
    "def clean_content(text):\n",
    "    text = re.sub(r'\\s+', ' ', text).strip()                                    # remove extra spaces\n",
    "    text = text.lower()\n",
    "    text = re.sub(r'http\\S+|www\\S+|https\\S+', '', text, flags=re.MULTILINE)     # remove urls\n",
    "    text = re.sub(r'\\@\\w+|\\#', '', text)                                        # remove at and hash tags\n",
    "    text = text.encode('ascii', 'ignore').decode('ascii')                       # remove emojis\n",
    "    tokenized_text = remove_stopwords(text)                                     # remove stopwords\n",
    "    return tokenized_text \n"
   ]
  },
  {
   "cell_type": "code",
   "execution_count": null,
   "metadata": {},
   "outputs": [],
   "source": [
    "data_dir = config['dataset']\n",
    "df = pd.read_csv(data_dir)\n",
    "df.info()"
   ]
  },
  {
   "cell_type": "code",
   "execution_count": null,
   "metadata": {},
   "outputs": [],
   "source": [
    "df.sentiment.value_counts()"
   ]
  },
  {
   "cell_type": "code",
   "execution_count": null,
   "metadata": {},
   "outputs": [],
   "source": [
    "sentiment_lb = df.sentiment.value_counts().index.to_list()\n",
    "sentiment_vl = df.sentiment.value_counts().to_list()\n",
    "\n",
    "plt.figure(figsize=(12, 8))\n",
    "plt.bar(range(len(sentiment_vl)), sentiment_vl)\n",
    "plt.xticks(range(len(sentiment_vl)), sentiment_lb, rotation=60)\n",
    "plt.xlabel('Sentiments')\n",
    "plt.ylabel('Proportion of each sentimental types')"
   ]
  },
  {
   "cell_type": "code",
   "execution_count": null,
   "metadata": {},
   "outputs": [],
   "source": [
    "# Proportion of word-length\n",
    "content = df.content\n",
    "content = content.apply(lambda x: clean_content(x))\n",
    "\n",
    "word_len_prop = {}\n",
    "\n",
    "for row in tqdm(content, desc='In Progress...'): \n",
    "    word_len = len(row)\n",
    "    try: \n",
    "        word_len_prop[word_len] += 1\n",
    "    except: \n",
    "        word_len_prop[word_len] = 1"
   ]
  },
  {
   "cell_type": "code",
   "execution_count": null,
   "metadata": {},
   "outputs": [],
   "source": [
    "sorted_word_dict = dict(sorted(word_len_prop.items(), key=lambda x: x[0]))\n",
    "plt.figure(figsize=(12, 8))\n",
    "plt.bar(range(len(sorted_word_dict.values())), sorted_word_dict.values())\n",
    "plt.xticks(range(len(sorted_word_dict.values())),sorted_word_dict.keys(), rotation=60)\n",
    "plt.xlabel('Length of each comment')\n",
    "plt.ylabel('Number of comment\\'s length')"
   ]
  },
  {
   "cell_type": "code",
   "execution_count": null,
   "metadata": {},
   "outputs": [],
   "source": []
  }
 ],
 "metadata": {
  "kernelspec": {
   "display_name": "gnn_lab",
   "language": "python",
   "name": "python3"
  },
  "language_info": {
   "codemirror_mode": {
    "name": "ipython",
    "version": 3
   },
   "file_extension": ".py",
   "mimetype": "text/x-python",
   "name": "python",
   "nbconvert_exporter": "python",
   "pygments_lexer": "ipython3",
   "version": "3.11.5"
  }
 },
 "nbformat": 4,
 "nbformat_minor": 2
}
